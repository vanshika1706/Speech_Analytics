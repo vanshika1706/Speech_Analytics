{
  "nbformat": 4,
  "nbformat_minor": 0,
  "metadata": {
    "colab": {
      "name": "Speech Analytics.ipynb",
      "provenance": [],
      "collapsed_sections": []
    },
    "kernelspec": {
      "name": "python3",
      "display_name": "Python 3"
    }
  },
  "cells": [
    {
      "cell_type": "markdown",
      "metadata": {
        "id": "EvDWN1stQiqc"
      },
      "source": [
        "**Installations**"
      ]
    },
    {
      "cell_type": "code",
      "metadata": {
        "id": "L5EqNoBR7HCq",
        "colab": {
          "base_uri": "https://localhost:8080/",
          "height": 1000
        },
        "outputId": "94af68bf-f714-44e7-daed-3ef006d45694"
      },
      "source": [
        "!pip install --upgrade google-cloud-speech"
      ],
      "execution_count": 1,
      "outputs": [
        {
          "output_type": "stream",
          "text": [
            "Collecting google-cloud-speech\n",
            "\u001b[?25l  Downloading https://files.pythonhosted.org/packages/e6/d5/664cd3597cf3991f67d213f8e0b14c263c971af4bc806454c583f637e2a3/google_cloud_speech-2.0.1-py2.py3-none-any.whl (108kB)\n",
            "\u001b[K     |████████████████████████████████| 112kB 8.5MB/s \n",
            "\u001b[?25hCollecting libcst>=0.2.5\n",
            "\u001b[?25l  Downloading https://files.pythonhosted.org/packages/ef/af/c1cc1250ec12f30aca0211b0c30d8f8e4a888308e0363fa14f03114adb82/libcst-0.3.15-py3-none-any.whl (504kB)\n",
            "\u001b[K     |████████████████████████████████| 512kB 20.7MB/s \n",
            "\u001b[?25hCollecting google-api-core[grpc]<2.0.0dev,>=1.22.2\n",
            "\u001b[?25l  Downloading https://files.pythonhosted.org/packages/2e/3d/d7af13040ab5b259994a4434ff03d68084a994e709bc8afa4bee1235310e/google_api_core-1.23.0-py2.py3-none-any.whl (91kB)\n",
            "\u001b[K     |████████████████████████████████| 92kB 8.4MB/s \n",
            "\u001b[?25hCollecting proto-plus>=1.4.0\n",
            "\u001b[?25l  Downloading https://files.pythonhosted.org/packages/e8/e0/59ad1e6a7d62259027e9b48aedfc95ba63f9336b803d1b174769bcb2c7f9/proto-plus-1.13.0.tar.gz (44kB)\n",
            "\u001b[K     |████████████████████████████████| 51kB 5.8MB/s \n",
            "\u001b[?25hCollecting typing-inspect>=0.4.0\n",
            "  Downloading https://files.pythonhosted.org/packages/42/1c/66402db44184904a2f14722d317a4da0b5c8c78acfc3faf74362566635c5/typing_inspect-0.6.0-py3-none-any.whl\n",
            "Collecting pyyaml>=5.2\n",
            "\u001b[?25l  Downloading https://files.pythonhosted.org/packages/64/c2/b80047c7ac2478f9501676c988a5411ed5572f35d1beff9cae07d321512c/PyYAML-5.3.1.tar.gz (269kB)\n",
            "\u001b[K     |████████████████████████████████| 276kB 14.1MB/s \n",
            "\u001b[?25hRequirement already satisfied, skipping upgrade: typing-extensions>=3.7.4.2 in /usr/local/lib/python3.6/dist-packages (from libcst>=0.2.5->google-cloud-speech) (3.7.4.3)\n",
            "Requirement already satisfied, skipping upgrade: dataclasses>=0.6.0; python_version < \"3.7\" in /usr/local/lib/python3.6/dist-packages (from libcst>=0.2.5->google-cloud-speech) (0.8)\n",
            "Requirement already satisfied, skipping upgrade: googleapis-common-protos<2.0dev,>=1.6.0 in /usr/local/lib/python3.6/dist-packages (from google-api-core[grpc]<2.0.0dev,>=1.22.2->google-cloud-speech) (1.52.0)\n",
            "Requirement already satisfied, skipping upgrade: six>=1.13.0 in /usr/local/lib/python3.6/dist-packages (from google-api-core[grpc]<2.0.0dev,>=1.22.2->google-cloud-speech) (1.15.0)\n",
            "Requirement already satisfied, skipping upgrade: setuptools>=34.0.0 in /usr/local/lib/python3.6/dist-packages (from google-api-core[grpc]<2.0.0dev,>=1.22.2->google-cloud-speech) (50.3.2)\n",
            "Requirement already satisfied, skipping upgrade: requests<3.0.0dev,>=2.18.0 in /usr/local/lib/python3.6/dist-packages (from google-api-core[grpc]<2.0.0dev,>=1.22.2->google-cloud-speech) (2.23.0)\n",
            "Collecting google-auth<2.0dev,>=1.21.1\n",
            "\u001b[?25l  Downloading https://files.pythonhosted.org/packages/1d/60/81e68e70eea91ef05bb00bcdac243d67b61f826c65aaca6961de622dffd7/google_auth-1.23.0-py2.py3-none-any.whl (114kB)\n",
            "\u001b[K     |████████████████████████████████| 122kB 18.4MB/s \n",
            "\u001b[?25hRequirement already satisfied, skipping upgrade: pytz in /usr/local/lib/python3.6/dist-packages (from google-api-core[grpc]<2.0.0dev,>=1.22.2->google-cloud-speech) (2018.9)\n",
            "Requirement already satisfied, skipping upgrade: protobuf>=3.12.0 in /usr/local/lib/python3.6/dist-packages (from google-api-core[grpc]<2.0.0dev,>=1.22.2->google-cloud-speech) (3.12.4)\n",
            "Requirement already satisfied, skipping upgrade: grpcio<2.0dev,>=1.29.0; extra == \"grpc\" in /usr/local/lib/python3.6/dist-packages (from google-api-core[grpc]<2.0.0dev,>=1.22.2->google-cloud-speech) (1.33.2)\n",
            "Collecting mypy-extensions>=0.3.0\n",
            "  Downloading https://files.pythonhosted.org/packages/5c/eb/975c7c080f3223a5cdaff09612f3a5221e4ba534f7039db34c35d95fa6a5/mypy_extensions-0.4.3-py2.py3-none-any.whl\n",
            "Requirement already satisfied, skipping upgrade: chardet<4,>=3.0.2 in /usr/local/lib/python3.6/dist-packages (from requests<3.0.0dev,>=2.18.0->google-api-core[grpc]<2.0.0dev,>=1.22.2->google-cloud-speech) (3.0.4)\n",
            "Requirement already satisfied, skipping upgrade: certifi>=2017.4.17 in /usr/local/lib/python3.6/dist-packages (from requests<3.0.0dev,>=2.18.0->google-api-core[grpc]<2.0.0dev,>=1.22.2->google-cloud-speech) (2020.11.8)\n",
            "Requirement already satisfied, skipping upgrade: urllib3!=1.25.0,!=1.25.1,<1.26,>=1.21.1 in /usr/local/lib/python3.6/dist-packages (from requests<3.0.0dev,>=2.18.0->google-api-core[grpc]<2.0.0dev,>=1.22.2->google-cloud-speech) (1.24.3)\n",
            "Requirement already satisfied, skipping upgrade: idna<3,>=2.5 in /usr/local/lib/python3.6/dist-packages (from requests<3.0.0dev,>=2.18.0->google-api-core[grpc]<2.0.0dev,>=1.22.2->google-cloud-speech) (2.10)\n",
            "Requirement already satisfied, skipping upgrade: rsa<5,>=3.1.4; python_version >= \"3.5\" in /usr/local/lib/python3.6/dist-packages (from google-auth<2.0dev,>=1.21.1->google-api-core[grpc]<2.0.0dev,>=1.22.2->google-cloud-speech) (4.6)\n",
            "Requirement already satisfied, skipping upgrade: cachetools<5.0,>=2.0.0 in /usr/local/lib/python3.6/dist-packages (from google-auth<2.0dev,>=1.21.1->google-api-core[grpc]<2.0.0dev,>=1.22.2->google-cloud-speech) (4.1.1)\n",
            "Requirement already satisfied, skipping upgrade: pyasn1-modules>=0.2.1 in /usr/local/lib/python3.6/dist-packages (from google-auth<2.0dev,>=1.21.1->google-api-core[grpc]<2.0.0dev,>=1.22.2->google-cloud-speech) (0.2.8)\n",
            "Requirement already satisfied, skipping upgrade: pyasn1>=0.1.3 in /usr/local/lib/python3.6/dist-packages (from rsa<5,>=3.1.4; python_version >= \"3.5\"->google-auth<2.0dev,>=1.21.1->google-api-core[grpc]<2.0.0dev,>=1.22.2->google-cloud-speech) (0.4.8)\n",
            "Building wheels for collected packages: proto-plus, pyyaml\n",
            "  Building wheel for proto-plus (setup.py) ... \u001b[?25l\u001b[?25hdone\n",
            "  Created wheel for proto-plus: filename=proto_plus-1.13.0-cp36-none-any.whl size=41593 sha256=c77bcd83bdd12c872da2a8d1132aefcd8041a67cdca4e7afc797053b5793394a\n",
            "  Stored in directory: /root/.cache/pip/wheels/65/57/45/b5c1c1c29003f3670581d84356fa449e1133da93c15f1de364\n",
            "  Building wheel for pyyaml (setup.py) ... \u001b[?25l\u001b[?25hdone\n",
            "  Created wheel for pyyaml: filename=PyYAML-5.3.1-cp36-cp36m-linux_x86_64.whl size=44619 sha256=1d954c08af8101d1b56b25641b41c45abc5b1293ac32045492f28a720de8bf1b\n",
            "  Stored in directory: /root/.cache/pip/wheels/a7/c1/ea/cf5bd31012e735dc1dfea3131a2d5eae7978b251083d6247bd\n",
            "Successfully built proto-plus pyyaml\n",
            "\u001b[31mERROR: google-colab 1.0.0 has requirement google-auth~=1.17.2, but you'll have google-auth 1.23.0 which is incompatible.\u001b[0m\n",
            "Installing collected packages: mypy-extensions, typing-inspect, pyyaml, libcst, google-auth, google-api-core, proto-plus, google-cloud-speech\n",
            "  Found existing installation: PyYAML 3.13\n",
            "    Uninstalling PyYAML-3.13:\n",
            "      Successfully uninstalled PyYAML-3.13\n",
            "  Found existing installation: google-auth 1.17.2\n",
            "    Uninstalling google-auth-1.17.2:\n",
            "      Successfully uninstalled google-auth-1.17.2\n",
            "  Found existing installation: google-api-core 1.16.0\n",
            "    Uninstalling google-api-core-1.16.0:\n",
            "      Successfully uninstalled google-api-core-1.16.0\n",
            "Successfully installed google-api-core-1.23.0 google-auth-1.23.0 google-cloud-speech-2.0.1 libcst-0.3.15 mypy-extensions-0.4.3 proto-plus-1.13.0 pyyaml-5.3.1 typing-inspect-0.6.0\n"
          ],
          "name": "stdout"
        },
        {
          "output_type": "display_data",
          "data": {
            "application/vnd.colab-display-data+json": {
              "pip_warning": {
                "packages": [
                  "google"
                ]
              }
            }
          },
          "metadata": {
            "tags": []
          }
        }
      ]
    },
    {
      "cell_type": "code",
      "metadata": {
        "id": "0O3fDxNt7Wya",
        "colab": {
          "base_uri": "https://localhost:8080/"
        },
        "outputId": "c936edf2-fbab-40db-8698-980ec637e9fa"
      },
      "source": [
        "from google.colab import drive\n",
        "drive.mount(\"/content/drive\")"
      ],
      "execution_count": 1,
      "outputs": [
        {
          "output_type": "stream",
          "text": [
            "Mounted at /content/drive\n"
          ],
          "name": "stdout"
        }
      ]
    },
    {
      "cell_type": "code",
      "metadata": {
        "id": "aoJCBqcd66QV"
      },
      "source": [
        "import io\n",
        "import os\n",
        "\n",
        "from google.cloud import speech_v1\n",
        "# from google.cloud.speech import enums\n",
        "from google.cloud.speech_v1 import types\n",
        "\n",
        "from IPython.display import Audio"
      ],
      "execution_count": 2,
      "outputs": []
    },
    {
      "cell_type": "markdown",
      "metadata": {
        "id": "hvO80EN2vgoT"
      },
      "source": [
        "To get API Credentials - https://console.cloud.google.com/apis/credentials/serviceaccountkey"
      ]
    },
    {
      "cell_type": "code",
      "metadata": {
        "id": "g1unqqCO67wi",
        "colab": {
          "base_uri": "https://localhost:8080/"
        },
        "outputId": "a9e6e788-6f31-44c8-94c1-02f129514ae7"
      },
      "source": [
        "!ls /content/drive/'My Drive' "
      ],
      "execution_count": 3,
      "outputs": [
        {
          "output_type": "stream",
          "text": [
            "'1543062800697_EAadhaar_446141722913_07072017123243_619843 (1).pdf'\n",
            " 1543062800697_EAadhaar_446141722913_07072017123243_619843.pdf\n",
            " 1.DesignThinkingOverview_Part_2.pptx\n",
            " 1.DesignThinkingOverview_V2.pdf\n",
            " 1f7909ce-a239-4ded-a3b6-3b3493b71d51.zip\n",
            " 2ef7ab2f-30c8-4f20-a8ad-11840ce912cb.zip\n",
            " 2.ProblemDiscovery.pptx\n",
            " AI-Assisted_Driving_System.pdf\n",
            "'All India Postpoll 2014 Data file full and final_no_lable (1).gsheet'\n",
            "'All India Postpoll 2014 Data file full and final_no_lable.csv'\n",
            "'All India Postpoll 2014 Data file full and final_no_lable.gsheet'\n",
            " Ass2.xlsx\n",
            " Assignment_3.gdoc\n",
            "'Assignment_3 | Genomics & IOT.gdoc'\n",
            " Assignment_5.gdoc\n",
            " Assignment-image-captioner-Anshumaan_Dash.zip\n",
            " Bot_Data.gdoc\n",
            " BRD_Final\n",
            "'Captioning-HW (1).ipynb'\n",
            " Captioning-HW.ipynb\n",
            "'CDC Material'\n",
            " Classroom\n",
            "'Colab Notebooks'\n",
            " CollectionA\n",
            "'Copy of AI-Assisted-Driving.gdoc'\n",
            "'Copy of FinTech - UserCase - Study.gdoc'\n",
            "'Cover_Letter Fractal.gdoc'\n",
            " Cover_Letter.pdf\n",
            " Cover_Letter_Vanshika_Hora.AI.pdf\n",
            "'Dance videos '\n",
            " Data\n",
            " data1cr.pickle\n",
            " data_prep_demo.csv\n",
            " Day1.ipynb\n",
            "' Financial assignment 2.gdoc'\n",
            " FinancialBot_BrainStorming.gdoc\n",
            "'GCLS Health - Team 1 .pdf'\n",
            "'Getting started.pdf'\n",
            " GRE_Vocab.gdoc\n",
            " Hackathon1.ipynb\n",
            " Hora.ai_Assignment.ipynb\n",
            " HumanCenteredDesign.pptx\n",
            " IdeaGeneration.pptx\n",
            " Leadership_Assignment.gdoc\n",
            "'Life Balance Wheel_Vanshi.gslides'\n",
            "'Manan Arora_GA2 Final.gdoc'\n",
            "'Manan Arora_GA2 Final.pdf'\n",
            "'Meeting notes.gdoc'\n",
            " MistakesinGRE.gdoc\n",
            " MovieLens-test.gsheet\n",
            " MultiOuput_TensorBoard_MNIST_Callbacks-in-Google-Colab-v2.ipynb\n",
            "'Mutual NDA_AMICA_Template(2).pdf'\n",
            "'Mutual NDA_AMICA_Template.pdf'\n",
            "'My First Project-e212143d5299.json'\n",
            "'Nagarro (1).pdf'\n",
            "'Nagarro (2).pdf'\n",
            "'Nagarro (3).pdf'\n",
            "'Nagarro (4).pdf'\n",
            "'Nagarro (5).pdf'\n",
            " Nagarro.odt\n",
            " Nagarro.pdf\n",
            " new.zip\n",
            "'Personal Detail Form.gdoc'\n",
            "'Personal Detail Form.pdf'\n",
            "'Plaksha_ResumeFormat – Sample.doc'\n",
            "'Please do check in the below sheets.gsheet'\n",
            "'Podcasts_Summary (1).pdf'\n",
            " Podcasts_Summary.gdoc\n",
            " Podcasts_Summary.pdf\n",
            " PrototypingandTesting.pptx\n",
            "'Prototyping presentation - Line chart 1.gsheet'\n",
            " PWC-Details.gdoc\n",
            " Recommendation_Letters.gdoc\n",
            "'Resume (1) (1).gdoc'\n",
            "'Resume (1).gdoc'\n",
            "'Resume (1).pdf'\n",
            " Resume.pdf\n",
            " Resume_Vanshika-1.pdf\n",
            " Resume_Vanshika.pdf\n",
            " ROI_Project.gdoc\n",
            "'Screenshot from 2019-10-15 22-26-36.png'\n",
            "\"Shray's pics\"\n",
            " Text_Generation\n",
            "'Vanshika Arora(1) (1).pdf'\n",
            "'Vanshika Arora(1) (2).pdf'\n",
            "'Vanshika Arora(1) (3).pdf'\n",
            "'Vanshika Arora(1) (4).pdf'\n",
            "'Vanshika Arora(1) (5).pdf'\n",
            "'Vanshika Arora(1).pdf'\n",
            "'Vanshika Arora - Graded Assignment 2- First Draft.gdoc'\n",
            "'Vanshika Arora - Graded Assignment 2- First Draft.pdf'\n",
            " Vanshika_Arora_Resume.pdf\n",
            " Vanshika_CoverLetter_Hora.docx\n",
            "'Vanshika_Resume (1).pdf'\n",
            "'Vanshika_Resume (2).pdf'\n",
            "'Vanshika_Resume (3).pdf'\n",
            "'Vanshika_Resume (4).pdf'\n",
            "'Vanshika_Resume (5).pdf'\n",
            "'Vanshika Resume.doc'\n",
            " Vanshika_Resume.pdf\n",
            "'Visualization_Critique (1).pdf'\n",
            "'Visualization_Critique (2).pdf'\n",
            "'Visualization_Critique (3).pdf'\n",
            "'Visualization_Critique (4).pdf'\n",
            "'Visualization_Critique (5).pdf'\n",
            " Visualization_Critique.pdf\n"
          ],
          "name": "stdout"
        }
      ]
    },
    {
      "cell_type": "code",
      "metadata": {
        "id": "TpPtEYcx9Xdp"
      },
      "source": [
        "os.environ['GOOGLE_APPLICATION_CREDENTIALS'] = '/content/drive/My Drive/My First Project-e212143d5299.json'"
      ],
      "execution_count": 4,
      "outputs": []
    },
    {
      "cell_type": "code",
      "metadata": {
        "id": "dBhOimuT8w31",
        "colab": {
          "base_uri": "https://localhost:8080/"
        },
        "outputId": "f5472308-8200-4019-ffbf-bf4edaff8ee5"
      },
      "source": [
        "!echo $GOOGLE_APPLICATION_CREDENTIALS"
      ],
      "execution_count": 5,
      "outputs": [
        {
          "output_type": "stream",
          "text": [
            "/content/drive/My Drive/My First Project-e212143d5299.json\n"
          ],
          "name": "stdout"
        }
      ]
    },
    {
      "cell_type": "markdown",
      "metadata": {
        "id": "Z42sBMq3Qsfy"
      },
      "source": [
        "**Converting Audios to Text**"
      ]
    },
    {
      "cell_type": "code",
      "metadata": {
        "id": "yq-5IK2C_au8",
        "colab": {
          "base_uri": "https://localhost:8080/"
        },
        "outputId": "0c8d1b1b-e0f9-42cf-b7b5-c1194ac2de3e"
      },
      "source": [
        "def transcribe_gcs(gcs_uri):\n",
        "    \"\"\"Asynchronously transcribes the audio file specified by the gcs_uri.\"\"\"\n",
        "    from google.cloud import speech_v1p1beta1 as speech\n",
        "\n",
        "    client = speech.SpeechClient()\n",
        "\n",
        "    audio = speech.RecognitionAudio(uri=gcs_uri)\n",
        "    config = speech.RecognitionConfig(\n",
        "        encoding=speech.RecognitionConfig.AudioEncoding.LINEAR16,\n",
        "        sample_rate_hertz=16000,\n",
        "        language_code=\"en-IN\",\n",
        "        enable_speaker_diarization=True,\n",
        "        diarization_speaker_count=2\n",
        "    )\n",
        "\n",
        "    operation = client.long_running_recognize(\n",
        "        request={\"config\": config, \"audio\": audio}\n",
        "    )\n",
        "\n",
        "    operation = client.long_running_recognize(config=config, audio=audio)\n",
        "\n",
        "    print(\"Waiting for operation to complete...\")\n",
        "    response = operation.result(timeout=150)\n",
        "    result=response.results[-1]\n",
        "    alternative=result.alternatives[0]\n",
        "    for result in response.results:\n",
        "        print('Transcript: {}'.format(result.alternatives[0].transcript))\n",
        "\n",
        "    for word_info in alternative.words:\n",
        "        start_time = word_info.start_time\n",
        "        end_time = word_info.end_time\n",
        "        print(u\"word: '{}', speaker_tag: {}, start_time: {}, end_time: {}\".format(word_info.word, word_info.speaker_tag,start_time.total_seconds(),end_time.total_seconds()))\n",
        "transcribe_gcs('gs://audio_bajaj/Vanshika-Balic-2012081835.wav')"
      ],
      "execution_count": 166,
      "outputs": [
        {
          "output_type": "stream",
          "text": [
            "Waiting for operation to complete...\n",
            "Transcript: hello hello I am I talking to me sunchika hello mum who is it from Bajaj Allianz life insurance that I for enquiry on your life Bima policy that you are willing to buy I am here to help you and resolve the yes I did put Aquarius today and I wanted to purchase a policy for my son and daughter ok mam that is good so what is the ages what are the Ranger twins and there is there is also 1010 ok so I added a few mistakes you have in mind for your style and daughter like what they want to become in future right now I am not very much\n",
            "Transcript: about it but yeah I keep talking to them and they say that they want to be an Interior ok mam engineer so having a few policies that would be good enough for your children like the live Bima policy would be good it covers till the education part of your children and they would be secured education is completed then we have future secure policy also recovered the path after education and they would be secure till their time and also we have several other policies map I can send you the details of the policy which I feel is act for you can I send you the details map Sharma you can send it\n",
            "Transcript: on my you can take my email and you can send me the brochure or something to that I can read the policy throughout and then if I will be enquiry I'll get back to you ok mam will send you the brochure on your email address which you have put in the chair thankyou thankyou thankyou thankyou chalo\n",
            "Transcript: \n",
            "word: 'hello', speaker_tag: 2, start_time: 0.0, end_time: 2.3\n",
            "word: 'hello', speaker_tag: 2, start_time: 2.3, end_time: 4.1\n",
            "word: 'I', speaker_tag: 2, start_time: 4.1, end_time: 4.8\n",
            "word: 'am', speaker_tag: 2, start_time: 4.8, end_time: 4.9\n",
            "word: 'I', speaker_tag: 2, start_time: 4.9, end_time: 5.1\n",
            "word: 'talking', speaker_tag: 2, start_time: 5.1, end_time: 5.3\n",
            "word: 'to', speaker_tag: 2, start_time: 5.3, end_time: 5.6\n",
            "word: 'me', speaker_tag: 2, start_time: 5.6, end_time: 5.7\n",
            "word: 'sunchika', speaker_tag: 2, start_time: 5.7, end_time: 6.2\n",
            "word: 'hello', speaker_tag: 2, start_time: 6.2, end_time: 8.5\n",
            "word: 'mum', speaker_tag: 2, start_time: 8.5, end_time: 8.7\n",
            "word: 'who', speaker_tag: 2, start_time: 8.7, end_time: 9.0\n",
            "word: 'is', speaker_tag: 2, start_time: 9.0, end_time: 9.2\n",
            "word: 'it', speaker_tag: 2, start_time: 9.2, end_time: 9.4\n",
            "word: 'from', speaker_tag: 2, start_time: 9.4, end_time: 9.8\n",
            "word: 'Bajaj', speaker_tag: 2, start_time: 9.8, end_time: 10.3\n",
            "word: 'Allianz', speaker_tag: 2, start_time: 10.3, end_time: 10.9\n",
            "word: 'life', speaker_tag: 2, start_time: 10.9, end_time: 11.0\n",
            "word: 'insurance', speaker_tag: 2, start_time: 11.0, end_time: 11.2\n",
            "word: 'that', speaker_tag: 2, start_time: 11.2, end_time: 11.9\n",
            "word: 'I', speaker_tag: 1, start_time: 11.9, end_time: 15.1\n",
            "word: 'for', speaker_tag: 1, start_time: 15.1, end_time: 15.3\n",
            "word: 'enquiry', speaker_tag: 2, start_time: 15.3, end_time: 15.8\n",
            "word: 'on', speaker_tag: 2, start_time: 15.8, end_time: 17.0\n",
            "word: 'your', speaker_tag: 2, start_time: 17.0, end_time: 17.1\n",
            "word: 'life', speaker_tag: 2, start_time: 17.1, end_time: 17.5\n",
            "word: 'Bima', speaker_tag: 2, start_time: 17.5, end_time: 17.9\n",
            "word: 'policy', speaker_tag: 2, start_time: 17.9, end_time: 18.1\n",
            "word: 'that', speaker_tag: 2, start_time: 18.1, end_time: 19.1\n",
            "word: 'you', speaker_tag: 2, start_time: 19.1, end_time: 19.3\n",
            "word: 'are', speaker_tag: 2, start_time: 19.3, end_time: 19.4\n",
            "word: 'willing', speaker_tag: 2, start_time: 19.4, end_time: 19.7\n",
            "word: 'to', speaker_tag: 2, start_time: 19.7, end_time: 19.9\n",
            "word: 'buy', speaker_tag: 2, start_time: 19.9, end_time: 20.1\n",
            "word: 'I', speaker_tag: 1, start_time: 20.1, end_time: 22.0\n",
            "word: 'am', speaker_tag: 1, start_time: 22.0, end_time: 22.2\n",
            "word: 'here', speaker_tag: 1, start_time: 22.2, end_time: 22.3\n",
            "word: 'to', speaker_tag: 1, start_time: 22.3, end_time: 22.5\n",
            "word: 'help', speaker_tag: 1, start_time: 22.5, end_time: 22.7\n",
            "word: 'you', speaker_tag: 1, start_time: 22.7, end_time: 23.0\n",
            "word: 'and', speaker_tag: 1, start_time: 23.0, end_time: 23.4\n",
            "word: 'resolve', speaker_tag: 1, start_time: 23.4, end_time: 23.8\n",
            "word: 'the', speaker_tag: 1, start_time: 23.8, end_time: 23.8\n",
            "word: 'yes', speaker_tag: 2, start_time: 23.8, end_time: 26.1\n",
            "word: 'I', speaker_tag: 2, start_time: 26.1, end_time: 26.3\n",
            "word: 'did', speaker_tag: 2, start_time: 26.3, end_time: 26.8\n",
            "word: 'put', speaker_tag: 2, start_time: 26.8, end_time: 27.0\n",
            "word: 'Aquarius', speaker_tag: 2, start_time: 27.0, end_time: 27.8\n",
            "word: 'today', speaker_tag: 2, start_time: 27.8, end_time: 28.0\n",
            "word: 'and', speaker_tag: 2, start_time: 28.0, end_time: 28.5\n",
            "word: 'I', speaker_tag: 2, start_time: 28.5, end_time: 28.6\n",
            "word: 'wanted', speaker_tag: 2, start_time: 28.6, end_time: 29.0\n",
            "word: 'to', speaker_tag: 2, start_time: 29.0, end_time: 29.2\n",
            "word: 'purchase', speaker_tag: 2, start_time: 29.2, end_time: 30.1\n",
            "word: 'a', speaker_tag: 2, start_time: 30.1, end_time: 30.1\n",
            "word: 'policy', speaker_tag: 2, start_time: 30.1, end_time: 30.8\n",
            "word: 'for', speaker_tag: 2, start_time: 30.8, end_time: 31.0\n",
            "word: 'my', speaker_tag: 2, start_time: 31.0, end_time: 31.3\n",
            "word: 'son', speaker_tag: 2, start_time: 31.3, end_time: 31.6\n",
            "word: 'and', speaker_tag: 2, start_time: 31.6, end_time: 31.7\n",
            "word: 'daughter', speaker_tag: 2, start_time: 31.7, end_time: 32.1\n",
            "word: 'ok', speaker_tag: 1, start_time: 32.1, end_time: 33.4\n",
            "word: 'mam', speaker_tag: 1, start_time: 33.4, end_time: 33.7\n",
            "word: 'that', speaker_tag: 1, start_time: 33.7, end_time: 34.2\n",
            "word: 'is', speaker_tag: 1, start_time: 34.2, end_time: 34.3\n",
            "word: 'good', speaker_tag: 1, start_time: 34.3, end_time: 34.6\n",
            "word: 'so', speaker_tag: 1, start_time: 34.6, end_time: 35.1\n",
            "word: 'what', speaker_tag: 1, start_time: 35.1, end_time: 35.6\n",
            "word: 'is', speaker_tag: 1, start_time: 35.6, end_time: 35.8\n",
            "word: 'the', speaker_tag: 1, start_time: 35.8, end_time: 35.9\n",
            "word: 'ages', speaker_tag: 1, start_time: 35.9, end_time: 36.8\n",
            "word: 'what', speaker_tag: 1, start_time: 36.8, end_time: 37.5\n",
            "word: 'are', speaker_tag: 1, start_time: 37.5, end_time: 37.6\n",
            "word: 'the', speaker_tag: 1, start_time: 37.6, end_time: 37.8\n",
            "word: 'Ranger', speaker_tag: 1, start_time: 37.8, end_time: 38.2\n",
            "word: 'twins', speaker_tag: 2, start_time: 38.2, end_time: 39.5\n",
            "word: 'and', speaker_tag: 2, start_time: 39.5, end_time: 40.4\n",
            "word: 'there', speaker_tag: 2, start_time: 40.4, end_time: 40.7\n",
            "word: 'is', speaker_tag: 2, start_time: 40.7, end_time: 41.3\n",
            "word: 'there', speaker_tag: 2, start_time: 41.3, end_time: 42.2\n",
            "word: 'is', speaker_tag: 2, start_time: 42.2, end_time: 42.6\n",
            "word: 'also', speaker_tag: 2, start_time: 42.6, end_time: 43.4\n",
            "word: '1010', speaker_tag: 1, start_time: 43.4, end_time: 47.4\n",
            "word: 'ok', speaker_tag: 1, start_time: 47.4, end_time: 47.9\n",
            "word: 'so', speaker_tag: 1, start_time: 47.9, end_time: 49.3\n",
            "word: 'I', speaker_tag: 1, start_time: 49.3, end_time: 49.7\n",
            "word: 'added', speaker_tag: 1, start_time: 49.7, end_time: 50.0\n",
            "word: 'a', speaker_tag: 1, start_time: 50.0, end_time: 50.2\n",
            "word: 'few', speaker_tag: 1, start_time: 50.2, end_time: 50.6\n",
            "word: 'mistakes', speaker_tag: 1, start_time: 50.6, end_time: 51.2\n",
            "word: 'you', speaker_tag: 1, start_time: 51.2, end_time: 51.8\n",
            "word: 'have', speaker_tag: 1, start_time: 51.8, end_time: 52.2\n",
            "word: 'in', speaker_tag: 1, start_time: 52.2, end_time: 52.4\n",
            "word: 'mind', speaker_tag: 1, start_time: 52.4, end_time: 52.5\n",
            "word: 'for', speaker_tag: 1, start_time: 52.5, end_time: 52.9\n",
            "word: 'your', speaker_tag: 1, start_time: 52.9, end_time: 53.1\n",
            "word: 'style', speaker_tag: 1, start_time: 53.1, end_time: 53.7\n",
            "word: 'and', speaker_tag: 1, start_time: 53.7, end_time: 53.8\n",
            "word: 'daughter', speaker_tag: 1, start_time: 53.8, end_time: 54.3\n",
            "word: 'like', speaker_tag: 1, start_time: 54.3, end_time: 54.6\n",
            "word: 'what', speaker_tag: 1, start_time: 54.6, end_time: 54.9\n",
            "word: 'they', speaker_tag: 1, start_time: 54.9, end_time: 54.9\n",
            "word: 'want', speaker_tag: 1, start_time: 54.9, end_time: 55.3\n",
            "word: 'to', speaker_tag: 1, start_time: 55.3, end_time: 55.4\n",
            "word: 'become', speaker_tag: 1, start_time: 55.4, end_time: 55.6\n",
            "word: 'in', speaker_tag: 1, start_time: 55.6, end_time: 55.9\n",
            "word: 'future', speaker_tag: 1, start_time: 55.9, end_time: 56.0\n",
            "word: 'right', speaker_tag: 2, start_time: 56.0, end_time: 58.4\n",
            "word: 'now', speaker_tag: 2, start_time: 58.4, end_time: 58.6\n",
            "word: 'I', speaker_tag: 2, start_time: 58.6, end_time: 58.9\n",
            "word: 'am', speaker_tag: 2, start_time: 58.9, end_time: 59.1\n",
            "word: 'not', speaker_tag: 2, start_time: 59.1, end_time: 59.3\n",
            "word: 'very', speaker_tag: 2, start_time: 59.3, end_time: 59.5\n",
            "word: 'much', speaker_tag: 2, start_time: 59.5, end_time: 59.9\n",
            "word: 'about', speaker_tag: 2, start_time: 59.9, end_time: 60.6\n",
            "word: 'it', speaker_tag: 2, start_time: 60.6, end_time: 60.8\n",
            "word: 'but', speaker_tag: 2, start_time: 60.8, end_time: 60.9\n",
            "word: 'yeah', speaker_tag: 2, start_time: 60.9, end_time: 61.1\n",
            "word: 'I', speaker_tag: 2, start_time: 61.1, end_time: 61.2\n",
            "word: 'keep', speaker_tag: 2, start_time: 61.2, end_time: 61.8\n",
            "word: 'talking', speaker_tag: 2, start_time: 61.8, end_time: 62.0\n",
            "word: 'to', speaker_tag: 2, start_time: 62.0, end_time: 62.3\n",
            "word: 'them', speaker_tag: 2, start_time: 62.3, end_time: 62.5\n",
            "word: 'and', speaker_tag: 2, start_time: 62.5, end_time: 62.9\n",
            "word: 'they', speaker_tag: 2, start_time: 62.9, end_time: 63.2\n",
            "word: 'say', speaker_tag: 2, start_time: 63.2, end_time: 63.3\n",
            "word: 'that', speaker_tag: 2, start_time: 63.3, end_time: 63.6\n",
            "word: 'they', speaker_tag: 2, start_time: 63.6, end_time: 63.9\n",
            "word: 'want', speaker_tag: 2, start_time: 63.9, end_time: 64.2\n",
            "word: 'to', speaker_tag: 2, start_time: 64.2, end_time: 64.3\n",
            "word: 'be', speaker_tag: 2, start_time: 64.3, end_time: 64.4\n",
            "word: 'an', speaker_tag: 2, start_time: 64.4, end_time: 64.7\n",
            "word: 'Interior', speaker_tag: 2, start_time: 64.7, end_time: 65.3\n",
            "word: 'ok', speaker_tag: 1, start_time: 65.3, end_time: 66.2\n",
            "word: 'mam', speaker_tag: 1, start_time: 66.2, end_time: 66.6\n",
            "word: 'engineer', speaker_tag: 1, start_time: 66.6, end_time: 67.2\n",
            "word: 'so', speaker_tag: 1, start_time: 67.2, end_time: 67.9\n",
            "word: 'having', speaker_tag: 1, start_time: 67.9, end_time: 68.7\n",
            "word: 'a', speaker_tag: 1, start_time: 68.7, end_time: 69.2\n",
            "word: 'few', speaker_tag: 1, start_time: 69.2, end_time: 69.4\n",
            "word: 'policies', speaker_tag: 1, start_time: 69.4, end_time: 70.0\n",
            "word: 'that', speaker_tag: 1, start_time: 70.0, end_time: 70.2\n",
            "word: 'would', speaker_tag: 1, start_time: 70.2, end_time: 70.5\n",
            "word: 'be', speaker_tag: 1, start_time: 70.5, end_time: 70.6\n",
            "word: 'good', speaker_tag: 1, start_time: 70.6, end_time: 71.0\n",
            "word: 'enough', speaker_tag: 1, start_time: 71.0, end_time: 71.2\n",
            "word: 'for', speaker_tag: 1, start_time: 71.2, end_time: 71.5\n",
            "word: 'your', speaker_tag: 1, start_time: 71.5, end_time: 71.9\n",
            "word: 'children', speaker_tag: 1, start_time: 71.9, end_time: 72.1\n",
            "word: 'like', speaker_tag: 1, start_time: 72.1, end_time: 73.2\n",
            "word: 'the', speaker_tag: 1, start_time: 73.2, end_time: 73.3\n",
            "word: 'live', speaker_tag: 1, start_time: 73.3, end_time: 73.7\n",
            "word: 'Bima', speaker_tag: 1, start_time: 73.7, end_time: 74.2\n",
            "word: 'policy', speaker_tag: 1, start_time: 74.2, end_time: 74.3\n",
            "word: 'would', speaker_tag: 1, start_time: 74.3, end_time: 74.9\n",
            "word: 'be', speaker_tag: 1, start_time: 74.9, end_time: 75.1\n",
            "word: 'good', speaker_tag: 1, start_time: 75.1, end_time: 75.3\n",
            "word: 'it', speaker_tag: 1, start_time: 75.3, end_time: 76.1\n",
            "word: 'covers', speaker_tag: 1, start_time: 76.1, end_time: 76.7\n",
            "word: 'till', speaker_tag: 1, start_time: 76.7, end_time: 78.2\n",
            "word: 'the', speaker_tag: 1, start_time: 78.2, end_time: 78.7\n",
            "word: 'education', speaker_tag: 1, start_time: 78.7, end_time: 79.5\n",
            "word: 'part', speaker_tag: 1, start_time: 79.5, end_time: 79.8\n",
            "word: 'of', speaker_tag: 1, start_time: 79.8, end_time: 80.0\n",
            "word: 'your', speaker_tag: 1, start_time: 80.0, end_time: 80.2\n",
            "word: 'children', speaker_tag: 1, start_time: 80.2, end_time: 80.7\n",
            "word: 'and', speaker_tag: 1, start_time: 80.7, end_time: 81.5\n",
            "word: 'they', speaker_tag: 1, start_time: 81.5, end_time: 82.2\n",
            "word: 'would', speaker_tag: 1, start_time: 82.2, end_time: 82.4\n",
            "word: 'be', speaker_tag: 1, start_time: 82.4, end_time: 82.5\n",
            "word: 'secured', speaker_tag: 1, start_time: 82.5, end_time: 83.1\n",
            "word: 'education', speaker_tag: 1, start_time: 83.1, end_time: 84.8\n",
            "word: 'is', speaker_tag: 1, start_time: 84.8, end_time: 84.9\n",
            "word: 'completed', speaker_tag: 1, start_time: 84.9, end_time: 85.5\n",
            "word: 'then', speaker_tag: 1, start_time: 85.5, end_time: 86.2\n",
            "word: 'we', speaker_tag: 1, start_time: 86.2, end_time: 86.9\n",
            "word: 'have', speaker_tag: 1, start_time: 86.9, end_time: 87.3\n",
            "word: 'future', speaker_tag: 1, start_time: 87.3, end_time: 88.2\n",
            "word: 'secure', speaker_tag: 1, start_time: 88.2, end_time: 88.4\n",
            "word: 'policy', speaker_tag: 1, start_time: 88.4, end_time: 89.1\n",
            "word: 'also', speaker_tag: 1, start_time: 89.1, end_time: 89.4\n",
            "word: 'recovered', speaker_tag: 1, start_time: 89.4, end_time: 90.2\n",
            "word: 'the', speaker_tag: 1, start_time: 90.2, end_time: 90.4\n",
            "word: 'path', speaker_tag: 1, start_time: 90.4, end_time: 90.9\n",
            "word: 'after', speaker_tag: 1, start_time: 90.9, end_time: 91.1\n",
            "word: 'education', speaker_tag: 1, start_time: 91.1, end_time: 92.1\n",
            "word: 'and', speaker_tag: 1, start_time: 92.1, end_time: 93.0\n",
            "word: 'they', speaker_tag: 1, start_time: 93.0, end_time: 93.8\n",
            "word: 'would', speaker_tag: 1, start_time: 93.8, end_time: 94.0\n",
            "word: 'be', speaker_tag: 1, start_time: 94.0, end_time: 94.1\n",
            "word: 'secure', speaker_tag: 1, start_time: 94.1, end_time: 94.6\n",
            "word: 'till', speaker_tag: 1, start_time: 94.6, end_time: 95.2\n",
            "word: 'their', speaker_tag: 1, start_time: 95.2, end_time: 95.4\n",
            "word: 'time', speaker_tag: 1, start_time: 95.4, end_time: 95.9\n",
            "word: 'and', speaker_tag: 1, start_time: 95.9, end_time: 96.9\n",
            "word: 'also', speaker_tag: 1, start_time: 96.9, end_time: 98.3\n",
            "word: 'we', speaker_tag: 1, start_time: 98.3, end_time: 98.5\n",
            "word: 'have', speaker_tag: 1, start_time: 98.5, end_time: 98.7\n",
            "word: 'several', speaker_tag: 1, start_time: 98.7, end_time: 98.9\n",
            "word: 'other', speaker_tag: 1, start_time: 98.9, end_time: 99.4\n",
            "word: 'policies', speaker_tag: 1, start_time: 99.4, end_time: 99.8\n",
            "word: 'map', speaker_tag: 1, start_time: 99.8, end_time: 100.3\n",
            "word: 'I', speaker_tag: 1, start_time: 100.3, end_time: 101.2\n",
            "word: 'can', speaker_tag: 1, start_time: 101.2, end_time: 101.5\n",
            "word: 'send', speaker_tag: 1, start_time: 101.5, end_time: 101.8\n",
            "word: 'you', speaker_tag: 1, start_time: 101.8, end_time: 102.0\n",
            "word: 'the', speaker_tag: 1, start_time: 102.0, end_time: 102.0\n",
            "word: 'details', speaker_tag: 1, start_time: 102.0, end_time: 102.3\n",
            "word: 'of', speaker_tag: 1, start_time: 102.3, end_time: 102.9\n",
            "word: 'the', speaker_tag: 1, start_time: 102.9, end_time: 103.1\n",
            "word: 'policy', speaker_tag: 1, start_time: 103.1, end_time: 103.5\n",
            "word: 'which', speaker_tag: 1, start_time: 103.5, end_time: 103.8\n",
            "word: 'I', speaker_tag: 1, start_time: 103.8, end_time: 104.2\n",
            "word: 'feel', speaker_tag: 1, start_time: 104.2, end_time: 104.7\n",
            "word: 'is', speaker_tag: 1, start_time: 104.7, end_time: 105.0\n",
            "word: 'act', speaker_tag: 1, start_time: 105.0, end_time: 105.4\n",
            "word: 'for', speaker_tag: 1, start_time: 105.4, end_time: 105.5\n",
            "word: 'you', speaker_tag: 1, start_time: 105.5, end_time: 105.8\n",
            "word: 'can', speaker_tag: 1, start_time: 105.8, end_time: 107.3\n",
            "word: 'I', speaker_tag: 1, start_time: 107.3, end_time: 107.4\n",
            "word: 'send', speaker_tag: 1, start_time: 107.4, end_time: 107.6\n",
            "word: 'you', speaker_tag: 1, start_time: 107.6, end_time: 107.8\n",
            "word: 'the', speaker_tag: 1, start_time: 107.8, end_time: 107.8\n",
            "word: 'details', speaker_tag: 1, start_time: 107.8, end_time: 108.1\n",
            "word: 'map', speaker_tag: 2, start_time: 108.1, end_time: 108.7\n",
            "word: 'Sharma', speaker_tag: 2, start_time: 108.7, end_time: 110.3\n",
            "word: 'you', speaker_tag: 2, start_time: 110.3, end_time: 110.8\n",
            "word: 'can', speaker_tag: 2, start_time: 110.8, end_time: 111.0\n",
            "word: 'send', speaker_tag: 2, start_time: 111.0, end_time: 111.3\n",
            "word: 'it', speaker_tag: 2, start_time: 111.3, end_time: 111.5\n",
            "word: 'on', speaker_tag: 2, start_time: 112.1, end_time: 112.6\n",
            "word: 'my', speaker_tag: 2, start_time: 112.6, end_time: 112.8\n",
            "word: 'you', speaker_tag: 2, start_time: 112.8, end_time: 114.4\n",
            "word: 'can', speaker_tag: 2, start_time: 114.4, end_time: 114.6\n",
            "word: 'take', speaker_tag: 2, start_time: 114.6, end_time: 115.1\n",
            "word: 'my', speaker_tag: 2, start_time: 115.1, end_time: 115.3\n",
            "word: 'email', speaker_tag: 2, start_time: 115.3, end_time: 115.7\n",
            "word: 'and', speaker_tag: 2, start_time: 115.7, end_time: 116.1\n",
            "word: 'you', speaker_tag: 2, start_time: 116.1, end_time: 116.2\n",
            "word: 'can', speaker_tag: 2, start_time: 116.2, end_time: 116.6\n",
            "word: 'send', speaker_tag: 2, start_time: 116.6, end_time: 117.4\n",
            "word: 'me', speaker_tag: 2, start_time: 117.4, end_time: 117.6\n",
            "word: 'the', speaker_tag: 2, start_time: 117.6, end_time: 117.8\n",
            "word: 'brochure', speaker_tag: 2, start_time: 117.8, end_time: 118.3\n",
            "word: 'or', speaker_tag: 2, start_time: 118.3, end_time: 118.6\n",
            "word: 'something', speaker_tag: 2, start_time: 118.6, end_time: 119.2\n",
            "word: 'to', speaker_tag: 2, start_time: 119.2, end_time: 119.7\n",
            "word: 'that', speaker_tag: 2, start_time: 119.7, end_time: 119.9\n",
            "word: 'I', speaker_tag: 2, start_time: 119.9, end_time: 120.1\n",
            "word: 'can', speaker_tag: 2, start_time: 120.1, end_time: 120.4\n",
            "word: 'read', speaker_tag: 2, start_time: 120.4, end_time: 121.2\n",
            "word: 'the', speaker_tag: 2, start_time: 121.2, end_time: 121.3\n",
            "word: 'policy', speaker_tag: 2, start_time: 121.3, end_time: 121.9\n",
            "word: 'throughout', speaker_tag: 2, start_time: 121.9, end_time: 122.2\n",
            "word: 'and', speaker_tag: 2, start_time: 122.2, end_time: 122.6\n",
            "word: 'then', speaker_tag: 2, start_time: 122.6, end_time: 123.0\n",
            "word: 'if', speaker_tag: 2, start_time: 123.0, end_time: 123.2\n",
            "word: 'I', speaker_tag: 2, start_time: 123.2, end_time: 123.4\n",
            "word: 'will', speaker_tag: 2, start_time: 123.4, end_time: 123.9\n",
            "word: 'be', speaker_tag: 2, start_time: 123.9, end_time: 124.0\n",
            "word: 'enquiry', speaker_tag: 2, start_time: 124.0, end_time: 124.7\n",
            "word: 'I'll', speaker_tag: 2, start_time: 124.7, end_time: 124.9\n",
            "word: 'get', speaker_tag: 2, start_time: 124.9, end_time: 125.1\n",
            "word: 'back', speaker_tag: 2, start_time: 125.1, end_time: 125.2\n",
            "word: 'to', speaker_tag: 2, start_time: 125.2, end_time: 125.5\n",
            "word: 'you', speaker_tag: 2, start_time: 125.5, end_time: 125.6\n",
            "word: 'ok', speaker_tag: 2, start_time: 125.6, end_time: 126.5\n",
            "word: 'mam', speaker_tag: 2, start_time: 126.5, end_time: 126.9\n",
            "word: 'will', speaker_tag: 2, start_time: 126.9, end_time: 127.1\n",
            "word: 'send', speaker_tag: 2, start_time: 127.1, end_time: 127.4\n",
            "word: 'you', speaker_tag: 2, start_time: 127.4, end_time: 127.5\n",
            "word: 'the', speaker_tag: 2, start_time: 127.5, end_time: 127.6\n",
            "word: 'brochure', speaker_tag: 2, start_time: 127.6, end_time: 128.2\n",
            "word: 'on', speaker_tag: 2, start_time: 128.2, end_time: 128.4\n",
            "word: 'your', speaker_tag: 2, start_time: 128.4, end_time: 128.5\n",
            "word: 'email', speaker_tag: 2, start_time: 128.5, end_time: 128.8\n",
            "word: 'address', speaker_tag: 2, start_time: 128.8, end_time: 129.2\n",
            "word: 'which', speaker_tag: 2, start_time: 129.2, end_time: 129.4\n",
            "word: 'you', speaker_tag: 2, start_time: 129.4, end_time: 129.5\n",
            "word: 'have', speaker_tag: 2, start_time: 129.5, end_time: 129.6\n",
            "word: 'put', speaker_tag: 1, start_time: 129.6, end_time: 130.0\n",
            "word: 'in', speaker_tag: 1, start_time: 130.0, end_time: 130.2\n",
            "word: 'the', speaker_tag: 1, start_time: 130.2, end_time: 130.4\n",
            "word: 'chair', speaker_tag: 1, start_time: 130.4, end_time: 130.7\n",
            "word: 'thankyou', speaker_tag: 1, start_time: 130.7, end_time: 133.9\n",
            "word: 'thankyou', speaker_tag: 2, start_time: 133.9, end_time: 136.7\n",
            "word: 'thankyou', speaker_tag: 2, start_time: 136.7, end_time: 137.7\n",
            "word: 'thankyou', speaker_tag: 2, start_time: 137.7, end_time: 138.2\n",
            "word: 'chalo', speaker_tag: 2, start_time: 138.2, end_time: 141.0\n"
          ],
          "name": "stdout"
        }
      ]
    },
    {
      "cell_type": "markdown",
      "metadata": {
        "id": "t3cMRwDoQ7XS"
      },
      "source": [
        "**Sentiment Score, Magnitude and Entity Extraction**"
      ]
    },
    {
      "cell_type": "code",
      "metadata": {
        "id": "7qOKELEort_z"
      },
      "source": [
        "from google.cloud import language_v1\n",
        "from google.cloud.language_v1 import types\n",
        "from google.cloud.language_v1 import enums\n",
        "\n",
        "\n",
        "def language_analysis(text):\n",
        "    \"\"\"\n",
        "    Analyzing Sentiment in text file stored in Cloud Storage\n",
        "\n",
        "    Args:\n",
        "      gcs_content_uri Google Cloud Storage URI where the file content is located.\n",
        "      e.g. gs://[Your Bucket]/[Path to File]\n",
        "    \"\"\"\n",
        "\n",
        "    client = language_v1.LanguageServiceClient()\n",
        "    document = types.Document(content=text,type=enums.Document.Type.PLAIN_TEXT)\n",
        "    sent_analysis=client.analyze_sentiment(document=document)\n",
        "    print(dir(sent_analysis))\n",
        "    sentiment=sent_analysis.document_sentiment\n",
        "    ent_analysis=client.analyze_entities(document=document)\n",
        "    entities=ent_analysis.entities\n",
        "    response = client.classify_text(document=document)\n",
        "    return sentiment, entities,response"
      ],
      "execution_count": 92,
      "outputs": []
    },
    {
      "cell_type": "code",
      "metadata": {
        "colab": {
          "base_uri": "https://localhost:8080/"
        },
        "id": "kyA4QjLPzlwZ",
        "outputId": "6c1e5ee4-4b66-4ef5-e959-f3b0069bc9a2"
      },
      "source": [
        "text=\"hello hello am I talking to miss Vanshika hello maam who is this I am from Bajaj allianz life insurance this is Anmol I saw your inquiry on your life beema policy that you are willing to buy so I am here to help you and resolve the inquiry yes actually I did put a query yesterday and I wanted to purchase a policy for my son and daughter okay maam that is good what is their ages what are their ages. They are twins and their ages is lets say ten ten okay maam so are there any future prospects you have in mind for your son and daughter like what they want to become in their future right now I am not very much clear about it but yes I keep talking to them and they say that they want to be an engineer okay maam engineer so I have in mind a few policies that would be good enough for your children like the life beema policy would be good it covers till the education part of your children and they would be secured till the education is completed then we have future secure policy also which covers the part after education and they would be secured till their retirement and also we have several other policies maam I can send you the details of the policies which I feel is apt for you can I send you the details maam sure maam you can send it on my email you can take my email then send me the brochure or something so that I can read the policy throughout and then if I will be having query I will get back to you okay maam I will send you the brochure on your email address which you have put in the chatbox right okay maam thank you for calling bajaj life insurance thank you maam thank you\"\n",
        "sentiment,entities,category=language_analysis(text)\n",
        "print(sentiment.score,sentiment.magnitude)\n",
        "for e in entities:\n",
        "  print(e.name,e.salience)\n",
        "for category in category.categories:\n",
        "  print(u\"Category name: {}\".format(category.name))\n",
        "  print(u\"Confidence: {}\".format(category.confidence))\n"
      ],
      "execution_count": 162,
      "outputs": [
        {
          "output_type": "stream",
          "text": [
            "['ByteSize', 'Clear', 'ClearExtension', 'ClearField', 'CopyFrom', 'DESCRIPTOR', 'DiscardUnknownFields', 'Extensions', 'FindInitializationErrors', 'FromString', 'HasExtension', 'HasField', 'IsInitialized', 'ListFields', 'MergeFrom', 'MergeFromString', 'ParseFromString', 'RegisterExtension', 'SerializePartialToString', 'SerializeToString', 'SetInParent', 'UnknownFields', 'WhichOneof', '_CheckCalledFromGeneratedFile', '_SetListener', '__class__', '__deepcopy__', '__delattr__', '__dir__', '__doc__', '__eq__', '__format__', '__ge__', '__getattribute__', '__getstate__', '__gt__', '__hash__', '__init__', '__init_subclass__', '__le__', '__lt__', '__module__', '__ne__', '__new__', '__reduce__', '__reduce_ex__', '__repr__', '__setattr__', '__setstate__', '__sizeof__', '__slots__', '__str__', '__subclasshook__', '__unicode__', '_extensions_by_name', '_extensions_by_number', 'document_sentiment', 'language', 'sentences']\n",
            "0.0 0.30000001192092896\n",
            "Anmol 0.45247936248779297\n",
            "hello maam 0.10523062199354172\n",
            "inquiry 0.06539805233478546\n",
            "policy 0.042816631495952606\n",
            "ages 0.03755231574177742\n",
            "life beema policy 0.036968741565942764\n",
            "life insurance 0.0261626448482275\n",
            "twins 0.018431594595313072\n",
            "policies 0.01795482076704502\n",
            "prospects 0.015726283192634583\n",
            "Bajaj 0.015546970069408417\n",
            "ages 0.013965034857392311\n",
            "Vanshika 0.013668037950992584\n",
            "maam 0.013631404377520084\n",
            "inquiry 0.009977076202630997\n",
            "daughter 0.009977076202630997\n",
            "query 0.009977076202630997\n",
            "son 0.009977076202630997\n",
            "brochure 0.006780401803553104\n",
            "maam 0.0045946561731398106\n",
            "life beema policy 0.004271365702152252\n",
            "policy 0.004219195805490017\n",
            "policy 0.004066470544785261\n",
            "maam engineer 0.004038384184241295\n",
            "policies 0.0036046048626303673\n",
            "education 0.003296165494248271\n",
            "mind 0.00327678001485765\n",
            "engineer 0.00327678001485765\n",
            "son 0.0032367361709475517\n",
            "daughter 0.0032367361709475517\n",
            "mind 0.0032367361709475517\n",
            "children 0.0030065253376960754\n",
            "education part 0.0030065253376960754\n",
            "children 0.0030065253376960754\n",
            "email 0.0028439515735954046\n",
            "email 0.0024840638507157564\n",
            "details 0.0022656945511698723\n",
            "brochure 0.0022656945511698723\n",
            "query 0.0022656945511698723\n",
            "something 0.001990082673728466\n",
            "life insurance 0.0015857144026085734\n",
            "policies 0.0014118448598310351\n",
            "chatbox 0.0013927551917731762\n",
            "email address 0.0013927551917731762\n",
            "education 0.0010891088750213385\n",
            "details 0.0009932996472343802\n",
            "bajaj 0.0009370300103910267\n",
            "retirement 0.0008723940118215978\n",
            "part 0.0006145175429992378\n",
            "ten 0.0\n",
            "ten 0.0\n",
            "Category name: /Finance/Insurance\n",
            "Confidence: 0.8600000143051147\n"
          ],
          "name": "stdout"
        }
      ]
    },
    {
      "cell_type": "markdown",
      "metadata": {
        "id": "u72Vf24HRIZM"
      },
      "source": [
        "**WordCloud for Topic Analysis**"
      ]
    },
    {
      "cell_type": "code",
      "metadata": {
        "colab": {
          "base_uri": "https://localhost:8080/",
          "height": 310
        },
        "id": "jBn2QUR2-mQY",
        "outputId": "2ec07f28-0c2a-429a-dc27-b2ebdf97a418"
      },
      "source": [
        "from wordcloud import WordCloud,STOPWORDS\n",
        "import matplotlib.pyplot as plt\n",
        "wc= WordCloud(background_color=\"white\", max_words=2000, max_font_size=90, random_state=1, stopwords=STOPWORDS)\n",
        "wc.generate(text)\n",
        "plt.figure(figsize=[10,10])\n",
        "plt.imshow(wc)\n",
        "plt.axis('off')\n",
        "plt.show()"
      ],
      "execution_count": 62,
      "outputs": [
        {
          "output_type": "display_data",
          "data": {
            "image/png": "[encoded data removed]",
            "text/plain": [
              "<Figure size 720x720 with 1 Axes>"
            ]
          },
          "metadata": {
            "tags": [],
            "needs_background": "light"
          }
        }
      ]
    },
    {
      "cell_type": "markdown",
      "metadata": {
        "id": "RwbSq3-eRQ9h"
      },
      "source": [
        "**Topic Modelling**"
      ]
    },
    {
      "cell_type": "code",
      "metadata": {
        "id": "RC8z28wap9E6"
      },
      "source": [
        "import spacy\n",
        "spacy.load('en')\n",
        "from spacy.lang.en import English\n",
        "parser = English()\n",
        "def tokenize(text):\n",
        "    lda_tokens = []\n",
        "    tokens = parser(text)\n",
        "    for token in tokens:\n",
        "        if token.orth_.isspace():\n",
        "            continue\n",
        "        elif token.like_url:\n",
        "            lda_tokens.append('URL')\n",
        "        elif token.orth_.startswith('@'):\n",
        "            lda_tokens.append('SCREEN_NAME')\n",
        "        else:\n",
        "            lda_tokens.append(token.lower_)\n",
        "    return lda_tokens"
      ],
      "execution_count": 11,
      "outputs": []
    },
    {
      "cell_type": "code",
      "metadata": {
        "colab": {
          "base_uri": "https://localhost:8080/"
        },
        "id": "GAKVBx_SxR4x",
        "outputId": "fe1b8d83-0cef-469c-bbec-4a8001543019"
      },
      "source": [
        "import nltk\n",
        "nltk.download('wordnet')\n",
        "from nltk.corpus import wordnet as wn\n",
        "def get_lemma(word):\n",
        "    lemma = wn.morphy(word)\n",
        "    if lemma is None:\n",
        "        return word\n",
        "    else:\n",
        "        return lemma\n",
        "    \n",
        "from nltk.stem.wordnet import WordNetLemmatizer\n",
        "def get_lemma2(word):\n",
        "    return WordNetLemmatizer().lemmatize(word)"
      ],
      "execution_count": 12,
      "outputs": [
        {
          "output_type": "stream",
          "text": [
            "[nltk_data] Downloading package wordnet to /root/nltk_data...\n",
            "[nltk_data]   Package wordnet is already up-to-date!\n"
          ],
          "name": "stdout"
        }
      ]
    },
    {
      "cell_type": "code",
      "metadata": {
        "colab": {
          "base_uri": "https://localhost:8080/"
        },
        "id": "eYY9Le2UxUb-",
        "outputId": "f77a0291-7ad6-407a-878e-6c61c2412e53"
      },
      "source": [
        "nltk.download('stopwords')\n",
        "en_stop = set(nltk.corpus.stopwords.words('english'))"
      ],
      "execution_count": 13,
      "outputs": [
        {
          "output_type": "stream",
          "text": [
            "[nltk_data] Downloading package stopwords to /root/nltk_data...\n",
            "[nltk_data]   Package stopwords is already up-to-date!\n"
          ],
          "name": "stdout"
        }
      ]
    },
    {
      "cell_type": "code",
      "metadata": {
        "id": "Mgsj9kc9xXfn"
      },
      "source": [
        "def prepare_text_for_lda(text):\n",
        "    tokens = tokenize(text)\n",
        "    tokens = [token for token in tokens if len(token) > 4]\n",
        "    tokens = [token for token in tokens if token not in en_stop]\n",
        "    tokens = [get_lemma(token) for token in tokens]\n",
        "    return tokens"
      ],
      "execution_count": 14,
      "outputs": []
    },
    {
      "cell_type": "code",
      "metadata": {
        "colab": {
          "base_uri": "https://localhost:8080/"
        },
        "id": "7bVeKzAzxaBZ",
        "outputId": "99465dff-d665-4309-ab03-1a90b08d63d7"
      },
      "source": [
        "import random\n",
        "import pandas as pd\n",
        "calls=pd.read_csv('/content/Calls.csv')\n",
        "text_data = []\n",
        "for i in range(len(calls['Overall_Text'])):\n",
        "    tokens = prepare_text_for_lda(calls['Overall_Text'][i])\n",
        "    unwanted=['hello', 'talking','actually','become','right','clear','would','enough','several','something','throughout','thank','calling','want','bajaj','allianz','insurance','group','policy','remember','really','number','search','regard','whether','please','worry','possible','thanks','enlighten','clearly']\n",
        "    tokens =[ele for ele in tokens if ele not in unwanted]\n",
        "    print(tokens)\n",
        "    text_data.append(tokens)"
      ],
      "execution_count": 15,
      "outputs": [
        {
          "output_type": "stream",
          "text": [
            "['vanshika', 'anmol', 'inquiry', 'beema', 'willing', 'resolve', 'inquiry', 'query', 'yesterday', 'purchase', 'daughter', 'twins', 'future', 'prospect', 'daughter', 'future', 'engineer', 'engineer', 'child', 'beema', 'cover', 'education', 'child', 'secure', 'education', 'complete', 'future', 'secure', 'cover', 'education', 'secure', 'retirement', 'details', 'details', 'email', 'email', 'brochure', 'query', 'brochure', 'email', 'address', 'chatbox']\n",
            "['vanshika', 'missold', 'complain', 'money', 'morning', 'anmol', 'assure', 'agent', 'agent', 'purchase', 'behold', 'seven', 'eight', 'month', 'missold', 'discontinue', 'money', 'protocol', 'issue', 'database', 'three', 'details', 'sorry', 'disturbance', 'check', 'agent', 'grievance', 'change', 'money', 'money', 'earn', 'money', 'agent', 'missold', 'cooperate', 'offer', 'solution', 'resolve', 'problem']\n",
            "['company', 'purchase', 'duration', 'years', 'check', 'going', 'maturity', 'amout', 'vanshika', 'database', 'three', 'triple', 'second', 'nominee', 'nominee', 'amount', 'claim', 'purchase', 'assure', 'rupee', 'lakh', 'purchasing', 'agent', 'amount', 'double', 'mature', 'details', 'screen', 'accord', 'mature', 'fourth', 'liable', 'twenty', 'rupee', 'mention', 'maturity', 'bonus', 'maturity', 'bonus', 'rupee', 'given', 'maturity', 'confirm', 'insure', 'secure', 'beema', 'secure', 'beema', 'feature', 'applicable', 'years', 'include', 'assure', 'mention', 'twenty', 'lakh', 'lakh', 'double', 'twenty', 'lakh', 'recieve', 'bonus', 'feature', 'include', 'coverage', 'period', 'happen', 'within', 'duration', 'procedure', 'claim', 'amount', 'premium', 'duration', 'happen', 'claim', 'amount', 'filling', 'available', 'website', 'claim', 'elligible', 'amount', 'family', 'elligible', 'amount', 'deduction', 'accord', 'premium', 'deduction', 'accord', 'premium', 'maturity', 'liable', 'mature', 'amount', 'helpful']\n"
          ],
          "name": "stdout"
        }
      ]
    },
    {
      "cell_type": "code",
      "metadata": {
        "id": "NY7ZhkL91eP-"
      },
      "source": [
        "from gensim import corpora\n",
        "dictionary = corpora.Dictionary(text_data)\n",
        "corpus = [dictionary.doc2bow(text) for text in text_data]\n",
        "import pickle\n",
        "pickle.dump(corpus, open('corpus.pkl', 'wb'))\n",
        "dictionary.save('dictionary.gensim')"
      ],
      "execution_count": 16,
      "outputs": []
    },
    {
      "cell_type": "code",
      "metadata": {
        "colab": {
          "base_uri": "https://localhost:8080/"
        },
        "id": "pKaxWDb-1oUu",
        "outputId": "d5b44482-b5ea-4cf6-dea0-df844dd84838"
      },
      "source": [
        "import gensim\n",
        "NUM_TOPICS = 5\n",
        "ldamodel = gensim.models.ldamodel.LdaModel(corpus, num_topics = NUM_TOPICS, id2word=dictionary, passes=15)\n",
        "ldamodel.save('model5.gensim')\n",
        "topics = ldamodel.print_topics(num_words=4)\n",
        "for topic in topics:\n",
        "    print(topic)"
      ],
      "execution_count": 17,
      "outputs": [
        {
          "output_type": "stream",
          "text": [
            "(0, '0.090*\"money\" + 0.073*\"agent\" + 0.056*\"missold\" + 0.021*\"details\"')\n",
            "(1, '0.053*\"secure\" + 0.053*\"email\" + 0.053*\"future\" + 0.053*\"education\"')\n",
            "(2, '0.011*\"amount\" + 0.011*\"maturity\" + 0.011*\"bonus\" + 0.011*\"lakh\"')\n",
            "(3, '0.062*\"amount\" + 0.045*\"maturity\" + 0.036*\"lakh\" + 0.036*\"claim\"')\n",
            "(4, '0.011*\"amount\" + 0.011*\"maturity\" + 0.011*\"accord\" + 0.011*\"bonus\"')\n"
          ],
          "name": "stdout"
        }
      ]
    },
    {
      "cell_type": "code",
      "metadata": {
        "colab": {
          "base_uri": "https://localhost:8080/"
        },
        "id": "CrLWVWIGJAFh",
        "outputId": "11933aef-de2f-43ea-c677-7ec2aa0a3264"
      },
      "source": [
        "!pip install pyLDAvis"
      ],
      "execution_count": 18,
      "outputs": [
        {
          "output_type": "stream",
          "text": [
            "Collecting pyLDAvis\n",
            "\u001b[?25l  Downloading https://files.pythonhosted.org/packages/a5/3a/af82e070a8a96e13217c8f362f9a73e82d61ac8fff3a2561946a97f96266/pyLDAvis-2.1.2.tar.gz (1.6MB)\n",
            "\u001b[K     |████████████████████████████████| 1.6MB 9.1MB/s \n",
            "\u001b[?25hRequirement already satisfied: wheel>=0.23.0 in /usr/local/lib/python3.6/dist-packages (from pyLDAvis) (0.36.1)\n",
            "Requirement already satisfied: numpy>=1.9.2 in /usr/local/lib/python3.6/dist-packages (from pyLDAvis) (1.18.5)\n",
            "Requirement already satisfied: scipy>=0.18.0 in /usr/local/lib/python3.6/dist-packages (from pyLDAvis) (1.4.1)\n",
            "Requirement already satisfied: pandas>=0.17.0 in /usr/local/lib/python3.6/dist-packages (from pyLDAvis) (1.1.5)\n",
            "Requirement already satisfied: joblib>=0.8.4 in /usr/local/lib/python3.6/dist-packages (from pyLDAvis) (0.17.0)\n",
            "Requirement already satisfied: jinja2>=2.7.2 in /usr/local/lib/python3.6/dist-packages (from pyLDAvis) (2.11.2)\n",
            "Requirement already satisfied: numexpr in /usr/local/lib/python3.6/dist-packages (from pyLDAvis) (2.7.1)\n",
            "Requirement already satisfied: pytest in /usr/local/lib/python3.6/dist-packages (from pyLDAvis) (3.6.4)\n",
            "Requirement already satisfied: future in /usr/local/lib/python3.6/dist-packages (from pyLDAvis) (0.16.0)\n",
            "Collecting funcy\n",
            "  Downloading https://files.pythonhosted.org/packages/66/89/479de0afbbfb98d1c4b887936808764627300208bb771fcd823403645a36/funcy-1.15-py2.py3-none-any.whl\n",
            "Requirement already satisfied: pytz>=2017.2 in /usr/local/lib/python3.6/dist-packages (from pandas>=0.17.0->pyLDAvis) (2018.9)\n",
            "Requirement already satisfied: python-dateutil>=2.7.3 in /usr/local/lib/python3.6/dist-packages (from pandas>=0.17.0->pyLDAvis) (2.8.1)\n",
            "Requirement already satisfied: MarkupSafe>=0.23 in /usr/local/lib/python3.6/dist-packages (from jinja2>=2.7.2->pyLDAvis) (1.1.1)\n",
            "Requirement already satisfied: py>=1.5.0 in /usr/local/lib/python3.6/dist-packages (from pytest->pyLDAvis) (1.9.0)\n",
            "Requirement already satisfied: setuptools in /usr/local/lib/python3.6/dist-packages (from pytest->pyLDAvis) (50.3.2)\n",
            "Requirement already satisfied: atomicwrites>=1.0 in /usr/local/lib/python3.6/dist-packages (from pytest->pyLDAvis) (1.4.0)\n",
            "Requirement already satisfied: more-itertools>=4.0.0 in /usr/local/lib/python3.6/dist-packages (from pytest->pyLDAvis) (8.6.0)\n",
            "Requirement already satisfied: six>=1.10.0 in /usr/local/lib/python3.6/dist-packages (from pytest->pyLDAvis) (1.15.0)\n",
            "Requirement already satisfied: attrs>=17.4.0 in /usr/local/lib/python3.6/dist-packages (from pytest->pyLDAvis) (20.3.0)\n",
            "Requirement already satisfied: pluggy<0.8,>=0.5 in /usr/local/lib/python3.6/dist-packages (from pytest->pyLDAvis) (0.7.1)\n",
            "Building wheels for collected packages: pyLDAvis\n",
            "  Building wheel for pyLDAvis (setup.py) ... \u001b[?25l\u001b[?25hdone\n",
            "  Created wheel for pyLDAvis: filename=pyLDAvis-2.1.2-py2.py3-none-any.whl size=97711 sha256=f8cd67b15efa06535ddcc674a2345a5514db5aa4e25507249ca9e674c8dca59e\n",
            "  Stored in directory: /root/.cache/pip/wheels/98/71/24/513a99e58bb6b8465bae4d2d5e9dba8f0bef8179e3051ac414\n",
            "Successfully built pyLDAvis\n",
            "Installing collected packages: funcy, pyLDAvis\n",
            "Successfully installed funcy-1.15 pyLDAvis-2.1.2\n"
          ],
          "name": "stdout"
        }
      ]
    },
    {
      "cell_type": "markdown",
      "metadata": {
        "id": "HdDr9TjJRYc3"
      },
      "source": [
        "**Topic Visualisation**"
      ]
    },
    {
      "cell_type": "code",
      "metadata": {
        "id": "iQRWITFN1tPt"
      },
      "source": [
        "dictionary = gensim.corpora.Dictionary.load('dictionary.gensim')\n",
        "corpus = pickle.load(open('corpus.pkl', 'rb'))\n",
        "lda = gensim.models.ldamodel.LdaModel.load('model5.gensim')\n",
        "import pyLDAvis.gensim\n",
        "lda_display = pyLDAvis.gensim.prepare(lda, corpus, dictionary, sort_topics=False)\n",
        "pyLDAvis.display(lda_display)\n",
        "pyLDAvis.save_html(lda_display, 'lda.html')"
      ],
      "execution_count": 19,
      "outputs": []
    },
    {
      "cell_type": "markdown",
      "metadata": {
        "id": "8MGMzzqSRj3o"
      },
      "source": [
        "**Testing on New Text data**"
      ]
    },
    {
      "cell_type": "code",
      "metadata": {
        "colab": {
          "base_uri": "https://localhost:8080/"
        },
        "id": "2hDO9TWz2yPr",
        "outputId": "5dbc9fd7-b52f-449d-fdd2-1b1a57036c16"
      },
      "source": [
        "new_doc = 'Hi I have been mis-sell a policy, you agent has mis-sold me and also I want to check the premium amount of my policy'\n",
        "new_doc = prepare_text_for_lda(new_doc)\n",
        "new_doc_bow = dictionary.doc2bow(new_doc)\n",
        "print(new_doc_bow)\n",
        "print(ldamodel.get_document_topics(new_doc_bow))"
      ],
      "execution_count": 20,
      "outputs": [
        {
          "output_type": "stream",
          "text": [
            "[(25, 1), (29, 1), (51, 1), (81, 1)]\n",
            "[(0, 0.2901208), (1, 0.040006094), (2, 0.04002008), (3, 0.5898329), (4, 0.040020138)]\n"
          ],
          "name": "stdout"
        }
      ]
    },
    {
      "cell_type": "code",
      "metadata": {
        "colab": {
          "base_uri": "https://localhost:8080/"
        },
        "id": "4Wv7G8gLDinU",
        "outputId": "2b93b371-6e90-4263-cf2f-47ae1e589953"
      },
      "source": [
        "import csv\n",
        "for i in text_data:\n",
        "  word_count = {}\n",
        "  for word in i:\n",
        "      count = word_count.get(word, 0)\n",
        "      count += 1\n",
        "      word_count[word] = count\n",
        "  print(word_count)"
      ],
      "execution_count": 25,
      "outputs": [
        {
          "output_type": "stream",
          "text": [
            "{'vanshika': 1, 'anmol': 1, 'inquiry': 2, 'beema': 2, 'willing': 1, 'resolve': 1, 'query': 2, 'yesterday': 1, 'purchase': 1, 'daughter': 2, 'twins': 1, 'future': 3, 'prospect': 1, 'engineer': 2, 'child': 2, 'cover': 2, 'education': 3, 'secure': 3, 'complete': 1, 'retirement': 1, 'details': 2, 'email': 3, 'brochure': 2, 'address': 1, 'chatbox': 1}\n",
            "{'vanshika': 1, 'missold': 3, 'complain': 1, 'money': 5, 'morning': 1, 'anmol': 1, 'assure': 1, 'agent': 4, 'purchase': 1, 'behold': 1, 'seven': 1, 'eight': 1, 'month': 1, 'discontinue': 1, 'protocol': 1, 'issue': 1, 'database': 1, 'three': 1, 'details': 1, 'sorry': 1, 'disturbance': 1, 'check': 1, 'grievance': 1, 'change': 1, 'earn': 1, 'cooperate': 1, 'offer': 1, 'solution': 1, 'resolve': 1, 'problem': 1}\n",
            "{'company': 1, 'purchase': 2, 'duration': 3, 'years': 2, 'check': 1, 'going': 1, 'maturity': 5, 'amout': 1, 'vanshika': 1, 'database': 1, 'three': 1, 'triple': 1, 'second': 1, 'nominee': 2, 'amount': 7, 'claim': 4, 'assure': 2, 'rupee': 3, 'lakh': 4, 'purchasing': 1, 'agent': 1, 'double': 2, 'mature': 3, 'details': 1, 'screen': 1, 'accord': 3, 'fourth': 1, 'liable': 2, 'twenty': 3, 'mention': 2, 'bonus': 3, 'given': 1, 'confirm': 1, 'insure': 1, 'secure': 2, 'beema': 2, 'feature': 2, 'applicable': 1, 'include': 2, 'recieve': 1, 'coverage': 1, 'period': 1, 'happen': 2, 'within': 1, 'procedure': 1, 'premium': 3, 'filling': 1, 'available': 1, 'website': 1, 'elligible': 2, 'family': 1, 'deduction': 2, 'helpful': 1}\n"
          ],
          "name": "stdout"
        }
      ]
    },
    {
      "cell_type": "markdown",
      "metadata": {
        "id": "0DApPmYHRrwS"
      },
      "source": [
        "**Call_1 Word Frequency File**"
      ]
    },
    {
      "cell_type": "code",
      "metadata": {
        "id": "9CTQFP_OixGC"
      },
      "source": [
        "a_file = open(\"call1.csv\", \"w\")\n",
        "a_dict={'vanshika': 1, 'anmol': 1, 'inquiry': 2, 'beema': 2, 'willing': 1, 'resolve': 1, 'query': 2, 'yesterday': 1, 'purchase': 1, 'daughter': 2, 'twins': 1, 'future': 3, 'prospect': 1, 'engineer': 2, 'child': 2, 'cover': 2, 'education': 3, 'secure': 3, 'complete': 1, 'retirement': 1, 'details': 2, 'email': 3, 'brochure': 2, 'address': 1, 'chatbox': 1}\n",
        "writer = csv.writer(a_file)\n",
        "for key, value in a_dict.items():\n",
        "    writer.writerow([key, value])\n",
        "\n",
        "a_file.close()"
      ],
      "execution_count": 26,
      "outputs": []
    },
    {
      "cell_type": "markdown",
      "metadata": {
        "id": "keAHAdoqRxUt"
      },
      "source": [
        "**Call_2 Word Frequency File`**"
      ]
    },
    {
      "cell_type": "code",
      "metadata": {
        "id": "7npv0c5fi83m"
      },
      "source": [
        "a_file = open(\"call2.csv\", \"w\")\n",
        "a_dict={'vanshika': 1, 'missold': 3, 'complain': 1, 'money': 5, 'morning': 1, 'anmol': 1, 'assure': 1, 'agent': 4, 'purchase': 1, 'behold': 1, 'seven': 1, 'eight': 1, 'month': 1, 'discontinue': 1, 'protocol': 1, 'issue': 1, 'database': 1, 'three': 1, 'details': 1, 'sorry': 1, 'disturbance': 1, 'check': 1, 'grievance': 1, 'change': 1, 'earn': 1, 'cooperate': 1, 'offer': 1, 'solution': 1, 'resolve': 1, 'problem': 1}\n",
        "writer = csv.writer(a_file)\n",
        "for key, value in a_dict.items():\n",
        "    writer.writerow([key, value])\n",
        "\n",
        "a_file.close()"
      ],
      "execution_count": 27,
      "outputs": []
    },
    {
      "cell_type": "markdown",
      "metadata": {
        "id": "UwFS01IRR4hk"
      },
      "source": [
        "**Call_3 Word Frequency File**"
      ]
    },
    {
      "cell_type": "code",
      "metadata": {
        "id": "ps0fRaROpYdo"
      },
      "source": [
        "a_file = open(\"call3.csv\", \"w\")\n",
        "a_dict={'company': 1, 'purchase': 2, 'duration': 3, 'years': 2, 'check': 1, 'going': 1, 'maturity': 5, 'amout': 1, 'vanshika': 1, 'database': 1, 'three': 1, 'triple': 1, 'second': 1, 'nominee': 2, 'amount': 7, 'claim': 4, 'assure': 2, 'rupee': 3, 'lakh': 4, 'purchasing': 1, 'agent': 1, 'double': 2, 'mature': 3, 'details': 1, 'screen': 1, 'accord': 3, 'fourth': 1, 'liable': 2, 'twenty': 3, 'mention': 2, 'bonus': 3, 'given': 1, 'confirm': 1, 'insure': 1, 'secure': 2, 'beema': 2, 'feature': 2, 'applicable': 1, 'include': 2, 'recieve': 1, 'coverage': 1, 'period': 1, 'happen': 2, 'within': 1, 'procedure': 1, 'premium': 3, 'filling': 1, 'available': 1, 'website': 1, 'elligible': 2, 'family': 1, 'deduction': 2, 'helpful': 1}\n",
        "writer = csv.writer(a_file)\n",
        "for key, value in a_dict.items():\n",
        "    writer.writerow([key, value])\n",
        "\n",
        "a_file.close()"
      ],
      "execution_count": 28,
      "outputs": []
    },
    {
      "cell_type": "code",
      "metadata": {
        "colab": {
          "base_uri": "https://localhost:8080/"
        },
        "id": "rOMndvu8ncPd",
        "outputId": "8cf24fdd-0cf0-4cd4-a92b-fe1d5acaae54"
      },
      "source": [
        "!pip install pydub"
      ],
      "execution_count": 1,
      "outputs": [
        {
          "output_type": "stream",
          "text": [
            "Collecting pydub\n",
            "  Downloading https://files.pythonhosted.org/packages/7b/d1/fbfa79371a8cd9bb15c2e3c480d7e6e340ed5cc55005174e16f48418333a/pydub-0.24.1-py2.py3-none-any.whl\n",
            "Installing collected packages: pydub\n",
            "Successfully installed pydub-0.24.1\n"
          ],
          "name": "stdout"
        }
      ]
    },
    {
      "cell_type": "code",
      "metadata": {
        "colab": {
          "base_uri": "https://localhost:8080/"
        },
        "id": "OnSwKIkZph4l",
        "outputId": "8a386be8-bffd-40b3-9470-07d93c5b3f70"
      },
      "source": [
        "from pydub import AudioSegment\n",
        "phone_call=AudioSegment.from_file('/content/20200803-052603f965f037.wav')\n",
        "phone_call.channels"
      ],
      "execution_count": 3,
      "outputs": [
        {
          "output_type": "execute_result",
          "data": {
            "text/plain": [
              "1"
            ]
          },
          "metadata": {
            "tags": []
          },
          "execution_count": 3
        }
      ]
    },
    {
      "cell_type": "code",
      "metadata": {
        "colab": {
          "base_uri": "https://localhost:8080/"
        },
        "id": "IvaINU-Hnpmh",
        "outputId": "afedd1c6-48ae-49a2-a39c-bcee25a45e86"
      },
      "source": [
        "phone_call_channels = phone_call.split_to_mono()\n",
        "phone_call_channels"
      ],
      "execution_count": 4,
      "outputs": [
        {
          "output_type": "execute_result",
          "data": {
            "text/plain": [
              "[<pydub.audio_segment.AudioSegment at 0x7fc1c7e26a58>]"
            ]
          },
          "metadata": {
            "tags": []
          },
          "execution_count": 4
        }
      ]
    },
    {
      "cell_type": "code",
      "metadata": {
        "id": "W_R8J37toXe4"
      },
      "source": [
        ""
      ],
      "execution_count": null,
      "outputs": []
    }
  ]
}